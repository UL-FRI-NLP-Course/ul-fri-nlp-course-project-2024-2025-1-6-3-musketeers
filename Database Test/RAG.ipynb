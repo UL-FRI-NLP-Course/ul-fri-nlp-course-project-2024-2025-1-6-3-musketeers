{
 "cells": [
  {
   "cell_type": "markdown",
   "id": "0dd4df51",
   "metadata": {},
   "source": [
    "<h1>This is a python notebook containing our implmementation of a RAG for code generation, completion, debugging and other code relatied \"natural\" language queries</h1>"
   ]
  },
  {
   "cell_type": "code",
   "execution_count": 2,
   "id": "851e1794",
   "metadata": {},
   "outputs": [
    {
     "name": "stdout",
     "output_type": "stream",
     "text": [
      "Requirement already satisfied: chromadb in c:\\users\\38641\\documents\\faks\\5.letnik\\2.semester\\nlp\\ul-fri-nlp-course-project-2024-2025-1-6-3-musketeers\\venv\\lib\\site-packages (1.0.7)\n",
      "Requirement already satisfied: sentence_transformers in c:\\users\\38641\\documents\\faks\\5.letnik\\2.semester\\nlp\\ul-fri-nlp-course-project-2024-2025-1-6-3-musketeers\\venv\\lib\\site-packages (4.1.0)\n",
      "Requirement already satisfied: pandas in c:\\users\\38641\\documents\\faks\\5.letnik\\2.semester\\nlp\\ul-fri-nlp-course-project-2024-2025-1-6-3-musketeers\\venv\\lib\\site-packages (2.2.3)\n",
      "Requirement already satisfied: bs4 in c:\\users\\38641\\documents\\faks\\5.letnik\\2.semester\\nlp\\ul-fri-nlp-course-project-2024-2025-1-6-3-musketeers\\venv\\lib\\site-packages (0.0.2)\n",
      "Requirement already satisfied: tokenizers>=0.13.2 in c:\\users\\38641\\documents\\faks\\5.letnik\\2.semester\\nlp\\ul-fri-nlp-course-project-2024-2025-1-6-3-musketeers\\venv\\lib\\site-packages (from chromadb) (0.21.1)\n",
      "Requirement already satisfied: importlib-resources in c:\\users\\38641\\documents\\faks\\5.letnik\\2.semester\\nlp\\ul-fri-nlp-course-project-2024-2025-1-6-3-musketeers\\venv\\lib\\site-packages (from chromadb) (6.5.2)\n",
      "Requirement already satisfied: pypika>=0.48.9 in c:\\users\\38641\\documents\\faks\\5.letnik\\2.semester\\nlp\\ul-fri-nlp-course-project-2024-2025-1-6-3-musketeers\\venv\\lib\\site-packages (from chromadb) (0.48.9)\n",
      "Requirement already satisfied: mmh3>=4.0.1 in c:\\users\\38641\\documents\\faks\\5.letnik\\2.semester\\nlp\\ul-fri-nlp-course-project-2024-2025-1-6-3-musketeers\\venv\\lib\\site-packages (from chromadb) (5.1.0)\n",
      "Requirement already satisfied: build>=1.0.3 in c:\\users\\38641\\documents\\faks\\5.letnik\\2.semester\\nlp\\ul-fri-nlp-course-project-2024-2025-1-6-3-musketeers\\venv\\lib\\site-packages (from chromadb) (1.2.2.post1)\n",
      "Requirement already satisfied: rich>=10.11.0 in c:\\users\\38641\\documents\\faks\\5.letnik\\2.semester\\nlp\\ul-fri-nlp-course-project-2024-2025-1-6-3-musketeers\\venv\\lib\\site-packages (from chromadb) (14.0.0)\n",
      "Requirement already satisfied: fastapi==0.115.9 in c:\\users\\38641\\documents\\faks\\5.letnik\\2.semester\\nlp\\ul-fri-nlp-course-project-2024-2025-1-6-3-musketeers\\venv\\lib\\site-packages (from chromadb) (0.115.9)\n",
      "Requirement already satisfied: bcrypt>=4.0.1 in c:\\users\\38641\\documents\\faks\\5.letnik\\2.semester\\nlp\\ul-fri-nlp-course-project-2024-2025-1-6-3-musketeers\\venv\\lib\\site-packages (from chromadb) (4.3.0)\n",
      "Requirement already satisfied: kubernetes>=28.1.0 in c:\\users\\38641\\documents\\faks\\5.letnik\\2.semester\\nlp\\ul-fri-nlp-course-project-2024-2025-1-6-3-musketeers\\venv\\lib\\site-packages (from chromadb) (32.0.1)\n",
      "Requirement already satisfied: tqdm>=4.65.0 in c:\\users\\38641\\documents\\faks\\5.letnik\\2.semester\\nlp\\ul-fri-nlp-course-project-2024-2025-1-6-3-musketeers\\venv\\lib\\site-packages (from chromadb) (4.67.1)\n",
      "Requirement already satisfied: jsonschema>=4.19.0 in c:\\users\\38641\\documents\\faks\\5.letnik\\2.semester\\nlp\\ul-fri-nlp-course-project-2024-2025-1-6-3-musketeers\\venv\\lib\\site-packages (from chromadb) (4.23.0)\n",
      "Requirement already satisfied: pyyaml>=6.0.0 in c:\\users\\38641\\documents\\faks\\5.letnik\\2.semester\\nlp\\ul-fri-nlp-course-project-2024-2025-1-6-3-musketeers\\venv\\lib\\site-packages (from chromadb) (6.0.2)\n",
      "Requirement already satisfied: onnxruntime>=1.14.1 in c:\\users\\38641\\documents\\faks\\5.letnik\\2.semester\\nlp\\ul-fri-nlp-course-project-2024-2025-1-6-3-musketeers\\venv\\lib\\site-packages (from chromadb) (1.19.2)\n",
      "Requirement already satisfied: orjson>=3.9.12 in c:\\users\\38641\\documents\\faks\\5.letnik\\2.semester\\nlp\\ul-fri-nlp-course-project-2024-2025-1-6-3-musketeers\\venv\\lib\\site-packages (from chromadb) (3.10.16)\n",
      "Requirement already satisfied: numpy>=1.22.5 in c:\\users\\38641\\documents\\faks\\5.letnik\\2.semester\\nlp\\ul-fri-nlp-course-project-2024-2025-1-6-3-musketeers\\venv\\lib\\site-packages (from chromadb) (2.0.2)\n",
      "Requirement already satisfied: chroma-hnswlib==0.7.6 in c:\\users\\38641\\documents\\faks\\5.letnik\\2.semester\\nlp\\ul-fri-nlp-course-project-2024-2025-1-6-3-musketeers\\venv\\lib\\site-packages (from chromadb) (0.7.6)\n",
      "Requirement already satisfied: opentelemetry-api>=1.2.0 in c:\\users\\38641\\documents\\faks\\5.letnik\\2.semester\\nlp\\ul-fri-nlp-course-project-2024-2025-1-6-3-musketeers\\venv\\lib\\site-packages (from chromadb) (1.32.1)\n",
      "Requirement already satisfied: tenacity>=8.2.3 in c:\\users\\38641\\documents\\faks\\5.letnik\\2.semester\\nlp\\ul-fri-nlp-course-project-2024-2025-1-6-3-musketeers\\venv\\lib\\site-packages (from chromadb) (9.1.2)\n",
      "Requirement already satisfied: typing-extensions>=4.5.0 in c:\\users\\38641\\documents\\faks\\5.letnik\\2.semester\\nlp\\ul-fri-nlp-course-project-2024-2025-1-6-3-musketeers\\venv\\lib\\site-packages (from chromadb) (4.13.2)\n",
      "Requirement already satisfied: opentelemetry-exporter-otlp-proto-grpc>=1.2.0 in c:\\users\\38641\\documents\\faks\\5.letnik\\2.semester\\nlp\\ul-fri-nlp-course-project-2024-2025-1-6-3-musketeers\\venv\\lib\\site-packages (from chromadb) (1.32.1)\n",
      "Requirement already satisfied: httpx>=0.27.0 in c:\\users\\38641\\documents\\faks\\5.letnik\\2.semester\\nlp\\ul-fri-nlp-course-project-2024-2025-1-6-3-musketeers\\venv\\lib\\site-packages (from chromadb) (0.28.1)\n",
      "Requirement already satisfied: opentelemetry-instrumentation-fastapi>=0.41b0 in c:\\users\\38641\\documents\\faks\\5.letnik\\2.semester\\nlp\\ul-fri-nlp-course-project-2024-2025-1-6-3-musketeers\\venv\\lib\\site-packages (from chromadb) (0.53b1)\n",
      "Requirement already satisfied: pydantic>=1.9 in c:\\users\\38641\\documents\\faks\\5.letnik\\2.semester\\nlp\\ul-fri-nlp-course-project-2024-2025-1-6-3-musketeers\\venv\\lib\\site-packages (from chromadb) (2.11.3)\n",
      "Requirement already satisfied: overrides>=7.3.1 in c:\\users\\38641\\documents\\faks\\5.letnik\\2.semester\\nlp\\ul-fri-nlp-course-project-2024-2025-1-6-3-musketeers\\venv\\lib\\site-packages (from chromadb) (7.7.0)\n",
      "Requirement already satisfied: grpcio>=1.58.0 in c:\\users\\38641\\documents\\faks\\5.letnik\\2.semester\\nlp\\ul-fri-nlp-course-project-2024-2025-1-6-3-musketeers\\venv\\lib\\site-packages (from chromadb) (1.71.0)\n",
      "Requirement already satisfied: posthog>=2.4.0 in c:\\users\\38641\\documents\\faks\\5.letnik\\2.semester\\nlp\\ul-fri-nlp-course-project-2024-2025-1-6-3-musketeers\\venv\\lib\\site-packages (from chromadb) (4.0.0)\n",
      "Requirement already satisfied: opentelemetry-sdk>=1.2.0 in c:\\users\\38641\\documents\\faks\\5.letnik\\2.semester\\nlp\\ul-fri-nlp-course-project-2024-2025-1-6-3-musketeers\\venv\\lib\\site-packages (from chromadb) (1.32.1)\n",
      "Requirement already satisfied: typer>=0.9.0 in c:\\users\\38641\\documents\\faks\\5.letnik\\2.semester\\nlp\\ul-fri-nlp-course-project-2024-2025-1-6-3-musketeers\\venv\\lib\\site-packages (from chromadb) (0.15.2)\n",
      "Requirement already satisfied: uvicorn[standard]>=0.18.3 in c:\\users\\38641\\documents\\faks\\5.letnik\\2.semester\\nlp\\ul-fri-nlp-course-project-2024-2025-1-6-3-musketeers\\venv\\lib\\site-packages (from chromadb) (0.34.2)\n",
      "Requirement already satisfied: starlette<0.46.0,>=0.40.0 in c:\\users\\38641\\documents\\faks\\5.letnik\\2.semester\\nlp\\ul-fri-nlp-course-project-2024-2025-1-6-3-musketeers\\venv\\lib\\site-packages (from fastapi==0.115.9->chromadb) (0.45.3)\n",
      "Requirement already satisfied: pyproject_hooks in c:\\users\\38641\\documents\\faks\\5.letnik\\2.semester\\nlp\\ul-fri-nlp-course-project-2024-2025-1-6-3-musketeers\\venv\\lib\\site-packages (from build>=1.0.3->chromadb) (1.2.0)\n",
      "Requirement already satisfied: colorama in c:\\users\\38641\\documents\\faks\\5.letnik\\2.semester\\nlp\\ul-fri-nlp-course-project-2024-2025-1-6-3-musketeers\\venv\\lib\\site-packages (from build>=1.0.3->chromadb) (0.4.6)\n",
      "Requirement already satisfied: tomli>=1.1.0 in c:\\users\\38641\\documents\\faks\\5.letnik\\2.semester\\nlp\\ul-fri-nlp-course-project-2024-2025-1-6-3-musketeers\\venv\\lib\\site-packages (from build>=1.0.3->chromadb) (2.2.1)\n",
      "Requirement already satisfied: importlib-metadata>=4.6 in c:\\users\\38641\\documents\\faks\\5.letnik\\2.semester\\nlp\\ul-fri-nlp-course-project-2024-2025-1-6-3-musketeers\\venv\\lib\\site-packages (from build>=1.0.3->chromadb) (8.6.1)\n",
      "Requirement already satisfied: packaging>=19.1 in c:\\users\\38641\\documents\\faks\\5.letnik\\2.semester\\nlp\\ul-fri-nlp-course-project-2024-2025-1-6-3-musketeers\\venv\\lib\\site-packages (from build>=1.0.3->chromadb) (25.0)\n",
      "Requirement already satisfied: httpcore==1.* in c:\\users\\38641\\documents\\faks\\5.letnik\\2.semester\\nlp\\ul-fri-nlp-course-project-2024-2025-1-6-3-musketeers\\venv\\lib\\site-packages (from httpx>=0.27.0->chromadb) (1.0.9)\n",
      "Requirement already satisfied: anyio in c:\\users\\38641\\documents\\faks\\5.letnik\\2.semester\\nlp\\ul-fri-nlp-course-project-2024-2025-1-6-3-musketeers\\venv\\lib\\site-packages (from httpx>=0.27.0->chromadb) (4.9.0)\n",
      "Requirement already satisfied: certifi in c:\\users\\38641\\documents\\faks\\5.letnik\\2.semester\\nlp\\ul-fri-nlp-course-project-2024-2025-1-6-3-musketeers\\venv\\lib\\site-packages (from httpx>=0.27.0->chromadb) (2025.4.26)\n",
      "Requirement already satisfied: idna in c:\\users\\38641\\documents\\faks\\5.letnik\\2.semester\\nlp\\ul-fri-nlp-course-project-2024-2025-1-6-3-musketeers\\venv\\lib\\site-packages (from httpx>=0.27.0->chromadb) (3.10)\n",
      "Requirement already satisfied: h11>=0.16 in c:\\users\\38641\\documents\\faks\\5.letnik\\2.semester\\nlp\\ul-fri-nlp-course-project-2024-2025-1-6-3-musketeers\\venv\\lib\\site-packages (from httpcore==1.*->httpx>=0.27.0->chromadb) (0.16.0)\n",
      "Requirement already satisfied: zipp>=3.20 in c:\\users\\38641\\documents\\faks\\5.letnik\\2.semester\\nlp\\ul-fri-nlp-course-project-2024-2025-1-6-3-musketeers\\venv\\lib\\site-packages (from importlib-metadata>=4.6->build>=1.0.3->chromadb) (3.21.0)\n",
      "Requirement already satisfied: referencing>=0.28.4 in c:\\users\\38641\\documents\\faks\\5.letnik\\2.semester\\nlp\\ul-fri-nlp-course-project-2024-2025-1-6-3-musketeers\\venv\\lib\\site-packages (from jsonschema>=4.19.0->chromadb) (0.36.2)\n",
      "Requirement already satisfied: rpds-py>=0.7.1 in c:\\users\\38641\\documents\\faks\\5.letnik\\2.semester\\nlp\\ul-fri-nlp-course-project-2024-2025-1-6-3-musketeers\\venv\\lib\\site-packages (from jsonschema>=4.19.0->chromadb) (0.24.0)\n",
      "Requirement already satisfied: attrs>=22.2.0 in c:\\users\\38641\\documents\\faks\\5.letnik\\2.semester\\nlp\\ul-fri-nlp-course-project-2024-2025-1-6-3-musketeers\\venv\\lib\\site-packages (from jsonschema>=4.19.0->chromadb) (25.3.0)\n",
      "Requirement already satisfied: jsonschema-specifications>=2023.03.6 in c:\\users\\38641\\documents\\faks\\5.letnik\\2.semester\\nlp\\ul-fri-nlp-course-project-2024-2025-1-6-3-musketeers\\venv\\lib\\site-packages (from jsonschema>=4.19.0->chromadb) (2025.4.1)\n",
      "Requirement already satisfied: requests in c:\\users\\38641\\documents\\faks\\5.letnik\\2.semester\\nlp\\ul-fri-nlp-course-project-2024-2025-1-6-3-musketeers\\venv\\lib\\site-packages (from kubernetes>=28.1.0->chromadb) (2.32.3)\n",
      "Requirement already satisfied: urllib3>=1.24.2 in c:\\users\\38641\\documents\\faks\\5.letnik\\2.semester\\nlp\\ul-fri-nlp-course-project-2024-2025-1-6-3-musketeers\\venv\\lib\\site-packages (from kubernetes>=28.1.0->chromadb) (2.4.0)\n",
      "Requirement already satisfied: oauthlib>=3.2.2 in c:\\users\\38641\\documents\\faks\\5.letnik\\2.semester\\nlp\\ul-fri-nlp-course-project-2024-2025-1-6-3-musketeers\\venv\\lib\\site-packages (from kubernetes>=28.1.0->chromadb) (3.2.2)\n",
      "Requirement already satisfied: durationpy>=0.7 in c:\\users\\38641\\documents\\faks\\5.letnik\\2.semester\\nlp\\ul-fri-nlp-course-project-2024-2025-1-6-3-musketeers\\venv\\lib\\site-packages (from kubernetes>=28.1.0->chromadb) (0.9)\n",
      "Requirement already satisfied: python-dateutil>=2.5.3 in c:\\users\\38641\\documents\\faks\\5.letnik\\2.semester\\nlp\\ul-fri-nlp-course-project-2024-2025-1-6-3-musketeers\\venv\\lib\\site-packages (from kubernetes>=28.1.0->chromadb) (2.9.0.post0)\n",
      "Requirement already satisfied: google-auth>=1.0.1 in c:\\users\\38641\\documents\\faks\\5.letnik\\2.semester\\nlp\\ul-fri-nlp-course-project-2024-2025-1-6-3-musketeers\\venv\\lib\\site-packages (from kubernetes>=28.1.0->chromadb) (2.39.0)\n",
      "Requirement already satisfied: six>=1.9.0 in c:\\users\\38641\\documents\\faks\\5.letnik\\2.semester\\nlp\\ul-fri-nlp-course-project-2024-2025-1-6-3-musketeers\\venv\\lib\\site-packages (from kubernetes>=28.1.0->chromadb) (1.17.0)\n",
      "Requirement already satisfied: requests-oauthlib in c:\\users\\38641\\documents\\faks\\5.letnik\\2.semester\\nlp\\ul-fri-nlp-course-project-2024-2025-1-6-3-musketeers\\venv\\lib\\site-packages (from kubernetes>=28.1.0->chromadb) (2.0.0)\n",
      "Requirement already satisfied: websocket-client!=0.40.0,!=0.41.*,!=0.42.*,>=0.32.0 in c:\\users\\38641\\documents\\faks\\5.letnik\\2.semester\\nlp\\ul-fri-nlp-course-project-2024-2025-1-6-3-musketeers\\venv\\lib\\site-packages (from kubernetes>=28.1.0->chromadb) (1.8.0)\n",
      "Requirement already satisfied: cachetools<6.0,>=2.0.0 in c:\\users\\38641\\documents\\faks\\5.letnik\\2.semester\\nlp\\ul-fri-nlp-course-project-2024-2025-1-6-3-musketeers\\venv\\lib\\site-packages (from google-auth>=1.0.1->kubernetes>=28.1.0->chromadb) (5.5.2)\n",
      "Requirement already satisfied: rsa<5,>=3.1.4 in c:\\users\\38641\\documents\\faks\\5.letnik\\2.semester\\nlp\\ul-fri-nlp-course-project-2024-2025-1-6-3-musketeers\\venv\\lib\\site-packages (from google-auth>=1.0.1->kubernetes>=28.1.0->chromadb) (4.9.1)\n",
      "Requirement already satisfied: pyasn1-modules>=0.2.1 in c:\\users\\38641\\documents\\faks\\5.letnik\\2.semester\\nlp\\ul-fri-nlp-course-project-2024-2025-1-6-3-musketeers\\venv\\lib\\site-packages (from google-auth>=1.0.1->kubernetes>=28.1.0->chromadb) (0.4.2)\n",
      "Requirement already satisfied: flatbuffers in c:\\users\\38641\\documents\\faks\\5.letnik\\2.semester\\nlp\\ul-fri-nlp-course-project-2024-2025-1-6-3-musketeers\\venv\\lib\\site-packages (from onnxruntime>=1.14.1->chromadb) (25.2.10)\n",
      "Requirement already satisfied: coloredlogs in c:\\users\\38641\\documents\\faks\\5.letnik\\2.semester\\nlp\\ul-fri-nlp-course-project-2024-2025-1-6-3-musketeers\\venv\\lib\\site-packages (from onnxruntime>=1.14.1->chromadb) (15.0.1)\n",
      "Requirement already satisfied: sympy in c:\\users\\38641\\documents\\faks\\5.letnik\\2.semester\\nlp\\ul-fri-nlp-course-project-2024-2025-1-6-3-musketeers\\venv\\lib\\site-packages (from onnxruntime>=1.14.1->chromadb) (1.14.0)\n",
      "Requirement already satisfied: protobuf in c:\\users\\38641\\documents\\faks\\5.letnik\\2.semester\\nlp\\ul-fri-nlp-course-project-2024-2025-1-6-3-musketeers\\venv\\lib\\site-packages (from onnxruntime>=1.14.1->chromadb) (5.29.4)\n",
      "Requirement already satisfied: deprecated>=1.2.6 in c:\\users\\38641\\documents\\faks\\5.letnik\\2.semester\\nlp\\ul-fri-nlp-course-project-2024-2025-1-6-3-musketeers\\venv\\lib\\site-packages (from opentelemetry-api>=1.2.0->chromadb) (1.2.18)\n",
      "Requirement already satisfied: wrapt<2,>=1.10 in c:\\users\\38641\\documents\\faks\\5.letnik\\2.semester\\nlp\\ul-fri-nlp-course-project-2024-2025-1-6-3-musketeers\\venv\\lib\\site-packages (from deprecated>=1.2.6->opentelemetry-api>=1.2.0->chromadb) (1.17.2)\n",
      "Requirement already satisfied: opentelemetry-exporter-otlp-proto-common==1.32.1 in c:\\users\\38641\\documents\\faks\\5.letnik\\2.semester\\nlp\\ul-fri-nlp-course-project-2024-2025-1-6-3-musketeers\\venv\\lib\\site-packages (from opentelemetry-exporter-otlp-proto-grpc>=1.2.0->chromadb) (1.32.1)\n",
      "Requirement already satisfied: googleapis-common-protos~=1.52 in c:\\users\\38641\\documents\\faks\\5.letnik\\2.semester\\nlp\\ul-fri-nlp-course-project-2024-2025-1-6-3-musketeers\\venv\\lib\\site-packages (from opentelemetry-exporter-otlp-proto-grpc>=1.2.0->chromadb) (1.70.0)\n",
      "Requirement already satisfied: opentelemetry-proto==1.32.1 in c:\\users\\38641\\documents\\faks\\5.letnik\\2.semester\\nlp\\ul-fri-nlp-course-project-2024-2025-1-6-3-musketeers\\venv\\lib\\site-packages (from opentelemetry-exporter-otlp-proto-grpc>=1.2.0->chromadb) (1.32.1)\n",
      "Requirement already satisfied: opentelemetry-instrumentation==0.53b1 in c:\\users\\38641\\documents\\faks\\5.letnik\\2.semester\\nlp\\ul-fri-nlp-course-project-2024-2025-1-6-3-musketeers\\venv\\lib\\site-packages (from opentelemetry-instrumentation-fastapi>=0.41b0->chromadb) (0.53b1)\n",
      "Requirement already satisfied: opentelemetry-instrumentation-asgi==0.53b1 in c:\\users\\38641\\documents\\faks\\5.letnik\\2.semester\\nlp\\ul-fri-nlp-course-project-2024-2025-1-6-3-musketeers\\venv\\lib\\site-packages (from opentelemetry-instrumentation-fastapi>=0.41b0->chromadb) (0.53b1)\n",
      "Requirement already satisfied: opentelemetry-util-http==0.53b1 in c:\\users\\38641\\documents\\faks\\5.letnik\\2.semester\\nlp\\ul-fri-nlp-course-project-2024-2025-1-6-3-musketeers\\venv\\lib\\site-packages (from opentelemetry-instrumentation-fastapi>=0.41b0->chromadb) (0.53b1)\n",
      "Requirement already satisfied: opentelemetry-semantic-conventions==0.53b1 in c:\\users\\38641\\documents\\faks\\5.letnik\\2.semester\\nlp\\ul-fri-nlp-course-project-2024-2025-1-6-3-musketeers\\venv\\lib\\site-packages (from opentelemetry-instrumentation-fastapi>=0.41b0->chromadb) (0.53b1)\n",
      "Requirement already satisfied: asgiref~=3.0 in c:\\users\\38641\\documents\\faks\\5.letnik\\2.semester\\nlp\\ul-fri-nlp-course-project-2024-2025-1-6-3-musketeers\\venv\\lib\\site-packages (from opentelemetry-instrumentation-asgi==0.53b1->opentelemetry-instrumentation-fastapi>=0.41b0->chromadb) (3.8.1)\n",
      "Requirement already satisfied: backoff>=1.10.0 in c:\\users\\38641\\documents\\faks\\5.letnik\\2.semester\\nlp\\ul-fri-nlp-course-project-2024-2025-1-6-3-musketeers\\venv\\lib\\site-packages (from posthog>=2.4.0->chromadb) (2.2.1)\n",
      "Requirement already satisfied: monotonic>=1.5 in c:\\users\\38641\\documents\\faks\\5.letnik\\2.semester\\nlp\\ul-fri-nlp-course-project-2024-2025-1-6-3-musketeers\\venv\\lib\\site-packages (from posthog>=2.4.0->chromadb) (1.6)\n",
      "Requirement already satisfied: distro>=1.5.0 in c:\\users\\38641\\documents\\faks\\5.letnik\\2.semester\\nlp\\ul-fri-nlp-course-project-2024-2025-1-6-3-musketeers\\venv\\lib\\site-packages (from posthog>=2.4.0->chromadb) (1.9.0)\n",
      "Requirement already satisfied: pyasn1<0.7.0,>=0.6.1 in c:\\users\\38641\\documents\\faks\\5.letnik\\2.semester\\nlp\\ul-fri-nlp-course-project-2024-2025-1-6-3-musketeers\\venv\\lib\\site-packages (from pyasn1-modules>=0.2.1->google-auth>=1.0.1->kubernetes>=28.1.0->chromadb) (0.6.1)\n",
      "Requirement already satisfied: pydantic-core==2.33.1 in c:\\users\\38641\\documents\\faks\\5.letnik\\2.semester\\nlp\\ul-fri-nlp-course-project-2024-2025-1-6-3-musketeers\\venv\\lib\\site-packages (from pydantic>=1.9->chromadb) (2.33.1)\n",
      "Requirement already satisfied: annotated-types>=0.6.0 in c:\\users\\38641\\documents\\faks\\5.letnik\\2.semester\\nlp\\ul-fri-nlp-course-project-2024-2025-1-6-3-musketeers\\venv\\lib\\site-packages (from pydantic>=1.9->chromadb) (0.7.0)\n",
      "Requirement already satisfied: typing-inspection>=0.4.0 in c:\\users\\38641\\documents\\faks\\5.letnik\\2.semester\\nlp\\ul-fri-nlp-course-project-2024-2025-1-6-3-musketeers\\venv\\lib\\site-packages (from pydantic>=1.9->chromadb) (0.4.0)\n",
      "Requirement already satisfied: charset-normalizer<4,>=2 in c:\\users\\38641\\documents\\faks\\5.letnik\\2.semester\\nlp\\ul-fri-nlp-course-project-2024-2025-1-6-3-musketeers\\venv\\lib\\site-packages (from requests->kubernetes>=28.1.0->chromadb) (3.4.1)\n",
      "Requirement already satisfied: markdown-it-py>=2.2.0 in c:\\users\\38641\\documents\\faks\\5.letnik\\2.semester\\nlp\\ul-fri-nlp-course-project-2024-2025-1-6-3-musketeers\\venv\\lib\\site-packages (from rich>=10.11.0->chromadb) (3.0.0)\n",
      "Requirement already satisfied: pygments<3.0.0,>=2.13.0 in c:\\users\\38641\\documents\\faks\\5.letnik\\2.semester\\nlp\\ul-fri-nlp-course-project-2024-2025-1-6-3-musketeers\\venv\\lib\\site-packages (from rich>=10.11.0->chromadb) (2.19.1)\n",
      "Requirement already satisfied: mdurl~=0.1 in c:\\users\\38641\\documents\\faks\\5.letnik\\2.semester\\nlp\\ul-fri-nlp-course-project-2024-2025-1-6-3-musketeers\\venv\\lib\\site-packages (from markdown-it-py>=2.2.0->rich>=10.11.0->chromadb) (0.1.2)\n",
      "Requirement already satisfied: exceptiongroup>=1.0.2 in c:\\users\\38641\\documents\\faks\\5.letnik\\2.semester\\nlp\\ul-fri-nlp-course-project-2024-2025-1-6-3-musketeers\\venv\\lib\\site-packages (from anyio->httpx>=0.27.0->chromadb) (1.2.2)\n",
      "Requirement already satisfied: sniffio>=1.1 in c:\\users\\38641\\documents\\faks\\5.letnik\\2.semester\\nlp\\ul-fri-nlp-course-project-2024-2025-1-6-3-musketeers\\venv\\lib\\site-packages (from anyio->httpx>=0.27.0->chromadb) (1.3.1)\n",
      "Requirement already satisfied: huggingface-hub<1.0,>=0.16.4 in c:\\users\\38641\\documents\\faks\\5.letnik\\2.semester\\nlp\\ul-fri-nlp-course-project-2024-2025-1-6-3-musketeers\\venv\\lib\\site-packages (from tokenizers>=0.13.2->chromadb) (0.30.2)\n",
      "Requirement already satisfied: filelock in c:\\users\\38641\\documents\\faks\\5.letnik\\2.semester\\nlp\\ul-fri-nlp-course-project-2024-2025-1-6-3-musketeers\\venv\\lib\\site-packages (from huggingface-hub<1.0,>=0.16.4->tokenizers>=0.13.2->chromadb) (3.18.0)\n",
      "Requirement already satisfied: fsspec>=2023.5.0 in c:\\users\\38641\\documents\\faks\\5.letnik\\2.semester\\nlp\\ul-fri-nlp-course-project-2024-2025-1-6-3-musketeers\\venv\\lib\\site-packages (from huggingface-hub<1.0,>=0.16.4->tokenizers>=0.13.2->chromadb) (2025.3.2)\n",
      "Requirement already satisfied: click>=8.0.0 in c:\\users\\38641\\documents\\faks\\5.letnik\\2.semester\\nlp\\ul-fri-nlp-course-project-2024-2025-1-6-3-musketeers\\venv\\lib\\site-packages (from typer>=0.9.0->chromadb) (8.1.8)\n",
      "Requirement already satisfied: shellingham>=1.3.0 in c:\\users\\38641\\documents\\faks\\5.letnik\\2.semester\\nlp\\ul-fri-nlp-course-project-2024-2025-1-6-3-musketeers\\venv\\lib\\site-packages (from typer>=0.9.0->chromadb) (1.5.4)\n",
      "Requirement already satisfied: httptools>=0.6.3 in c:\\users\\38641\\documents\\faks\\5.letnik\\2.semester\\nlp\\ul-fri-nlp-course-project-2024-2025-1-6-3-musketeers\\venv\\lib\\site-packages (from uvicorn[standard]>=0.18.3->chromadb) (0.6.4)\n",
      "Requirement already satisfied: python-dotenv>=0.13 in c:\\users\\38641\\documents\\faks\\5.letnik\\2.semester\\nlp\\ul-fri-nlp-course-project-2024-2025-1-6-3-musketeers\\venv\\lib\\site-packages (from uvicorn[standard]>=0.18.3->chromadb) (1.1.0)\n",
      "Requirement already satisfied: websockets>=10.4 in c:\\users\\38641\\documents\\faks\\5.letnik\\2.semester\\nlp\\ul-fri-nlp-course-project-2024-2025-1-6-3-musketeers\\venv\\lib\\site-packages (from uvicorn[standard]>=0.18.3->chromadb) (15.0.1)\n",
      "Requirement already satisfied: watchfiles>=0.13 in c:\\users\\38641\\documents\\faks\\5.letnik\\2.semester\\nlp\\ul-fri-nlp-course-project-2024-2025-1-6-3-musketeers\\venv\\lib\\site-packages (from uvicorn[standard]>=0.18.3->chromadb) (1.0.5)\n",
      "Requirement already satisfied: scipy in c:\\users\\38641\\documents\\faks\\5.letnik\\2.semester\\nlp\\ul-fri-nlp-course-project-2024-2025-1-6-3-musketeers\\venv\\lib\\site-packages (from sentence_transformers) (1.13.1)\n",
      "Requirement already satisfied: torch>=1.11.0 in c:\\users\\38641\\documents\\faks\\5.letnik\\2.semester\\nlp\\ul-fri-nlp-course-project-2024-2025-1-6-3-musketeers\\venv\\lib\\site-packages (from sentence_transformers) (2.7.0)\n",
      "Requirement already satisfied: transformers<5.0.0,>=4.41.0 in c:\\users\\38641\\documents\\faks\\5.letnik\\2.semester\\nlp\\ul-fri-nlp-course-project-2024-2025-1-6-3-musketeers\\venv\\lib\\site-packages (from sentence_transformers) (4.51.3)\n",
      "Requirement already satisfied: scikit-learn in c:\\users\\38641\\documents\\faks\\5.letnik\\2.semester\\nlp\\ul-fri-nlp-course-project-2024-2025-1-6-3-musketeers\\venv\\lib\\site-packages (from sentence_transformers) (1.6.1)\n",
      "Requirement already satisfied: Pillow in c:\\users\\38641\\documents\\faks\\5.letnik\\2.semester\\nlp\\ul-fri-nlp-course-project-2024-2025-1-6-3-musketeers\\venv\\lib\\site-packages (from sentence_transformers) (11.2.1)\n",
      "Requirement already satisfied: networkx in c:\\users\\38641\\documents\\faks\\5.letnik\\2.semester\\nlp\\ul-fri-nlp-course-project-2024-2025-1-6-3-musketeers\\venv\\lib\\site-packages (from torch>=1.11.0->sentence_transformers) (3.2.1)\n",
      "Requirement already satisfied: jinja2 in c:\\users\\38641\\documents\\faks\\5.letnik\\2.semester\\nlp\\ul-fri-nlp-course-project-2024-2025-1-6-3-musketeers\\venv\\lib\\site-packages (from torch>=1.11.0->sentence_transformers) (3.1.6)\n",
      "Requirement already satisfied: mpmath<1.4,>=1.1.0 in c:\\users\\38641\\documents\\faks\\5.letnik\\2.semester\\nlp\\ul-fri-nlp-course-project-2024-2025-1-6-3-musketeers\\venv\\lib\\site-packages (from sympy->onnxruntime>=1.14.1->chromadb) (1.3.0)\n",
      "Requirement already satisfied: regex!=2019.12.17 in c:\\users\\38641\\documents\\faks\\5.letnik\\2.semester\\nlp\\ul-fri-nlp-course-project-2024-2025-1-6-3-musketeers\\venv\\lib\\site-packages (from transformers<5.0.0,>=4.41.0->sentence_transformers) (2024.11.6)\n",
      "Requirement already satisfied: safetensors>=0.4.3 in c:\\users\\38641\\documents\\faks\\5.letnik\\2.semester\\nlp\\ul-fri-nlp-course-project-2024-2025-1-6-3-musketeers\\venv\\lib\\site-packages (from transformers<5.0.0,>=4.41.0->sentence_transformers) (0.5.3)\n",
      "Requirement already satisfied: pytz>=2020.1 in c:\\users\\38641\\documents\\faks\\5.letnik\\2.semester\\nlp\\ul-fri-nlp-course-project-2024-2025-1-6-3-musketeers\\venv\\lib\\site-packages (from pandas) (2025.2)\n",
      "Requirement already satisfied: tzdata>=2022.7 in c:\\users\\38641\\documents\\faks\\5.letnik\\2.semester\\nlp\\ul-fri-nlp-course-project-2024-2025-1-6-3-musketeers\\venv\\lib\\site-packages (from pandas) (2025.2)\n",
      "Requirement already satisfied: beautifulsoup4 in c:\\users\\38641\\documents\\faks\\5.letnik\\2.semester\\nlp\\ul-fri-nlp-course-project-2024-2025-1-6-3-musketeers\\venv\\lib\\site-packages (from bs4) (4.13.4)\n",
      "Requirement already satisfied: soupsieve>1.2 in c:\\users\\38641\\documents\\faks\\5.letnik\\2.semester\\nlp\\ul-fri-nlp-course-project-2024-2025-1-6-3-musketeers\\venv\\lib\\site-packages (from beautifulsoup4->bs4) (2.7)\n",
      "Requirement already satisfied: humanfriendly>=9.1 in c:\\users\\38641\\documents\\faks\\5.letnik\\2.semester\\nlp\\ul-fri-nlp-course-project-2024-2025-1-6-3-musketeers\\venv\\lib\\site-packages (from coloredlogs->onnxruntime>=1.14.1->chromadb) (10.0)\n",
      "Requirement already satisfied: pyreadline3 in c:\\users\\38641\\documents\\faks\\5.letnik\\2.semester\\nlp\\ul-fri-nlp-course-project-2024-2025-1-6-3-musketeers\\venv\\lib\\site-packages (from humanfriendly>=9.1->coloredlogs->onnxruntime>=1.14.1->chromadb) (3.5.4)\n",
      "Requirement already satisfied: MarkupSafe>=2.0 in c:\\users\\38641\\documents\\faks\\5.letnik\\2.semester\\nlp\\ul-fri-nlp-course-project-2024-2025-1-6-3-musketeers\\venv\\lib\\site-packages (from jinja2->torch>=1.11.0->sentence_transformers) (3.0.2)\n",
      "Requirement already satisfied: joblib>=1.2.0 in c:\\users\\38641\\documents\\faks\\5.letnik\\2.semester\\nlp\\ul-fri-nlp-course-project-2024-2025-1-6-3-musketeers\\venv\\lib\\site-packages (from scikit-learn->sentence_transformers) (1.4.2)\n",
      "Requirement already satisfied: threadpoolctl>=3.1.0 in c:\\users\\38641\\documents\\faks\\5.letnik\\2.semester\\nlp\\ul-fri-nlp-course-project-2024-2025-1-6-3-musketeers\\venv\\lib\\site-packages (from scikit-learn->sentence_transformers) (3.6.0)\n"
     ]
    },
    {
     "name": "stderr",
     "output_type": "stream",
     "text": [
      "WARNING: You are using pip version 21.1.3; however, version 25.1 is available.\n",
      "You should consider upgrading via the 'c:\\users\\38641\\documents\\faks\\5.letnik\\2.semester\\nlp\\ul-fri-nlp-course-project-2024-2025-1-6-3-musketeers\\venv\\scripts\\python.exe -m pip install --upgrade pip' command.\n"
     ]
    }
   ],
   "source": [
    "!pip install chromadb sentence_transformers pandas bs4"
   ]
  },
  {
   "cell_type": "code",
   "execution_count": 3,
   "id": "b685d3b3",
   "metadata": {},
   "outputs": [
    {
     "name": "stderr",
     "output_type": "stream",
     "text": [
      "c:\\Users\\38641\\Documents\\faks\\5.letnik\\2.semester\\NLP\\ul-fri-nlp-course-project-2024-2025-1-6-3-musketeers\\venv\\lib\\site-packages\\tqdm\\auto.py:21: TqdmWarning: IProgress not found. Please update jupyter and ipywidgets. See https://ipywidgets.readthedocs.io/en/stable/user_install.html\n",
      "  from .autonotebook import tqdm as notebook_tqdm\n"
     ]
    }
   ],
   "source": [
    "import chromadb\n",
    "from sentence_transformers import SentenceTransformer\n",
    "import pandas as pd\n",
    "import time\n",
    "import uuid\n",
    "from bs4 import BeautifulSoup"
   ]
  },
  {
   "cell_type": "markdown",
   "id": "6b19bce7",
   "metadata": {},
   "source": [
    "Read the Stackoverflow questions"
   ]
  },
  {
   "cell_type": "code",
   "execution_count": null,
   "id": "6265237a",
   "metadata": {},
   "outputs": [
    {
     "name": "stdout",
     "output_type": "stream",
     "text": [
      "Loaded 100 questions\n"
     ]
    }
   ],
   "source": [
    "data = ['python_questions0.csv']\n",
    "MAX_DOCS = 5000\n",
    "df = pd.DataFrame()\n",
    "for d in data:\n",
    "    df = pd.concat([df, pd.read_csv(d)], ignore_index=True)\n",
    "\n",
    "    \n",
    "df = df.loc[:min(len(df), MAX_DOCS-1), [\"tags\", \"question_title\", \"question_body\", \"answer\", \"question_score\"]]\n",
    "total_docs = len(df)\n",
    "print(f\"Loaded {total_docs} questions\")"
   ]
  },
  {
   "cell_type": "markdown",
   "id": "86743d46",
   "metadata": {},
   "source": [
    "Chunk the questions and prepare them to be embedded"
   ]
  },
  {
   "cell_type": "code",
   "execution_count": null,
   "id": "a0ec7133",
   "metadata": {},
   "outputs": [
    {
     "name": "stdout",
     "output_type": "stream",
     "text": [
      "Prepared 347 chunks.\n"
     ]
    }
   ],
   "source": [
    "chunks = []\n",
    "min_code_block = 10\n",
    "\n",
    "for ix, content in df.iterrows():\n",
    "    answer = content.loc['answer']\n",
    "    tags = content.loc[\"tags\"]\n",
    "    score = content.loc[\"question_score\"]\n",
    "\n",
    "    question_chunk = f\"{content.loc['question_title']}\\n{content.loc['question_body']}\".lower()\n",
    "    chunks.append({\"chunk\": question_chunk,\n",
    "                   \"metadata\": {\"tags\": tags,\n",
    "                                \"score\": score,\n",
    "                                \"question\": True,\n",
    "                                \"code\": False,\n",
    "                                \"answer\": answer.lower()\n",
    "                                }})\n",
    "    \n",
    "    answer_chunk = str(answer).lower()\n",
    "    chunks.append({\"chunk\": answer_chunk,\n",
    "                   \"metadata\": {\"tags\": tags,\n",
    "                   \"score\": score,\n",
    "                   \"question\": False,\n",
    "                   \"code\": False}\n",
    "                   })\n",
    "\n",
    "    soup = BeautifulSoup(answer, 'html.parser')\n",
    "    code_blocks = [code.get_text() for code in soup.find_all('code')]\n",
    "    for block in code_blocks:\n",
    "        if len(block) > min_code_block and '\\n' in block.strip():\n",
    "            chunks.append({\"chunk\": block.lower(),\n",
    "                           \"metadata\": {\"tags\": tags,\n",
    "                                        \"score\": score,\n",
    "                                        \"question\": False,\n",
    "                                        \"code\": True}})\n",
    "\n",
    "chunks = pd.DataFrame(chunks)\n",
    "total_chunks = len(chunks)\n",
    "print(f\"Prepared {total_chunks} chunks.\")"
   ]
  },
  {
   "cell_type": "markdown",
   "id": "52e81d3e",
   "metadata": {},
   "source": [
    "Initiate the embedder model and the vector database to store embeddings"
   ]
  },
  {
   "cell_type": "code",
   "execution_count": 35,
   "id": "337b3cc4",
   "metadata": {},
   "outputs": [],
   "source": [
    "# Initialize Chroma client\n",
    "client = chromadb.PersistentClient(path=\"./test_db\")\n",
    "\n",
    "collection = client.get_or_create_collection(\n",
    "    name=\"stackoverflow_demo\",\n",
    "    metadata={\"hnsw:space\": \"cosine\"}\n",
    ")"
   ]
  },
  {
   "cell_type": "code",
   "execution_count": 36,
   "id": "4129acc7",
   "metadata": {},
   "outputs": [],
   "source": [
    "# Initialize model\n",
    "model = SentenceTransformer('all-MiniLM-L6-v2')"
   ]
  },
  {
   "cell_type": "markdown",
   "id": "8bd88a21",
   "metadata": {},
   "source": [
    "Embed the chunks and save them into the database"
   ]
  },
  {
   "cell_type": "code",
   "execution_count": 37,
   "id": "aeade83e",
   "metadata": {},
   "outputs": [],
   "source": [
    "def print_progress(current, total, start_time, operation=\"Processing\"):\n",
    "    elapsed = time.time() - start_time\n",
    "    percent = current / total\n",
    "    eta = (elapsed / current) * (total - current) if current > 0 else 0\n",
    "    print(\n",
    "        f\"\\r{operation}: {current}/{total} ({percent:.1%}) | \"\n",
    "        f\"Elapsed: {elapsed:.1f}s | ETA: {eta:.1f}s\",\n",
    "        end=\"\", flush=True\n",
    "    )"
   ]
  },
  {
   "cell_type": "code",
   "execution_count": 38,
   "id": "97e3462c",
   "metadata": {},
   "outputs": [
    {
     "name": "stdout",
     "output_type": "stream",
     "text": [
      "Processing: 347/347 (100.0%) | Elapsed: 61.9s | ETA: 0.0s\n",
      "\n",
      "Successfully added 347 documents\n",
      "Total documents in collection: 347\n",
      "Total time: 61.91 seconds\n"
     ]
    }
   ],
   "source": [
    "BATCH_SIZE = 200\n",
    "total_added = 0\n",
    "start_time = time.time()\n",
    "\n",
    "for batch_num in range(0, total_chunks, BATCH_SIZE):\n",
    "    batch = chunks.iloc[batch_num:batch_num + BATCH_SIZE]\n",
    "    \n",
    "    documents = []\n",
    "    metadatas = []\n",
    "    ids = []\n",
    "    \n",
    "    for ix, row in batch.iterrows():\n",
    "        chunk = row[\"chunk\"]\n",
    "        metadata = row[\"metadata\"]\n",
    "        documents.append(chunk)\n",
    "        metadatas.append(metadata)\n",
    "        ids.append(str(uuid.uuid4()))  # Generate unique UUID for each document\n",
    "    \n",
    "    collection.add(\n",
    "        documents=documents,\n",
    "        metadatas=metadatas,\n",
    "        ids=ids\n",
    "    )\n",
    "    total_added += len(documents)\n",
    "\n",
    "    print_progress(min(batch_num + BATCH_SIZE, total_chunks), total_chunks, start_time)\n",
    "\n",
    "\n",
    "print(f\"\\n\\nSuccessfully added {total_added} documents\")\n",
    "print(f\"Total documents in collection: {collection.count()}\")\n",
    "print(f\"Total time: {time.time() - start_time:.2f} seconds\")"
   ]
  },
  {
   "cell_type": "code",
   "execution_count": 39,
   "id": "9dbff415",
   "metadata": {},
   "outputs": [
    {
     "name": "stdout",
     "output_type": "stream",
     "text": [
      "Total documents: 347\n",
      "\n",
      "Document 1:\n",
      "ID: 8da50ba7-e7ce-4318-bfda-9dcd55f97f5f\n",
      "Content: deleting dataframe row in pandas based on column value\n",
      "<p>i have the following dataframe:</p>\n",
      "\n",
      "<pre><code>             daysago  line_race rating        rw    wrating\n",
      " line_date                        ...\n",
      "Metadata: {'question': True, 'tags': 'python|pandas', 'answer': \"<p>the given answer is correct nontheless as someone above said you can use <code>df.query('line_race != 0')</code> which depending on your problem is much faster. highly recommend.</p>\", 'score': 256, 'code': False}\n",
      "\n",
      "Document 2:\n",
      "ID: 9661644b-99db-4da1-9622-a1fa0e894c29\n",
      "Content: <p>the given answer is correct nontheless as someone above said you can use <code>df.query('line_race != 0')</code> which depending on your problem is much faster. highly recommend.</p>...\n",
      "Metadata: {'tags': 'python|pandas', 'question': False, 'code': False, 'score': 256}\n",
      "\n",
      "Document 3:\n",
      "ID: 5e1c7261-2877-42ea-a705-1da24e3d13e5\n",
      "Content: df.query('line_race != 0')...\n",
      "Metadata: {'score': 256, 'question': False, 'tags': 'python|pandas', 'code': True}\n"
     ]
    }
   ],
   "source": [
    "results = collection.get()\n",
    "print(f\"Total documents: {len(results['ids'])}\")\n",
    "\n",
    "# Inspect first few items\n",
    "for i in range(min(3, len(results['ids']))):\n",
    "    print(f\"\\nDocument {i+1}:\")\n",
    "    print(f\"ID: {results['ids'][i]}\")\n",
    "    print(f\"Content: {results['documents'][i][:200]}...\")  # First 200 chars\n",
    "    print(f\"Metadata: {results['metadatas'][i]}\")"
   ]
  },
  {
   "cell_type": "markdown",
   "id": "bd5f7ae4",
   "metadata": {},
   "source": [
    "Check the retrieval process"
   ]
  },
  {
   "cell_type": "code",
   "execution_count": 40,
   "id": "436fbc8d",
   "metadata": {},
   "outputs": [
    {
     "name": "stdout",
     "output_type": "stream",
     "text": [
      "\n",
      "Top 3 similar questions:\n",
      "\n",
      "Result 1:\n",
      "Score: 0.52\n",
      "Content: >>> data = {'uid': ['restest'], 'mail': [''], 'givenname': ['research'], 'cn': ['research test account'], 'sn': ['account']}\n",
      ">>> data\n",
      "{'mail': [''], 'sn': ['account'], 'givenname': ['research'], 'uid'...\n",
      "Tags: python|django|dictionary|ldap\n",
      "\n",
      "Result 2:\n",
      "Score: 0.49\n",
      "Content: body=json.dumps(query_params),\n",
      "...\n",
      "Tags: google-webmaster-tools|google-api-python-client|google-api-webmasters\n",
      "\n",
      "Result 3:\n",
      "Score: 0.47\n",
      "Content: <p>found it! body parameter should actually by python object, not json formatted string!</p>\n",
      "\n",
      "<pre><code>body=json.dumps(query_params),\n",
      "</code></pre>\n",
      "\n",
      "<p>should be </p>\n",
      "\n",
      "<pre><code>body=query_params,\n",
      "...\n",
      "Tags: google-webmaster-tools|google-api-python-client|google-api-webmasters\n"
     ]
    }
   ],
   "source": [
    "# Search for similar questions\n",
    "query_text = \"how to parse json in python\"\n",
    "query_embedding = model.encode(query_text.lower()).tolist()\n",
    "\n",
    "results = collection.query(\n",
    "    query_embeddings=[query_embedding],\n",
    "    n_results=3\n",
    ")\n",
    "\n",
    "print(\"\\nTop 3 similar questions:\")\n",
    "for i, (doc, meta) in enumerate(zip(results['documents'][0], results['metadatas'][0])):\n",
    "    print(f\"\\nResult {i+1}:\")\n",
    "    print(f\"Score: {1 - results['distances'][0][i]:.2f}\")\n",
    "    print(f\"Content: {doc[:200]}...\")\n",
    "    print(f\"Tags: {meta['tags']}\")"
   ]
  },
  {
   "cell_type": "code",
   "execution_count": 41,
   "id": "0805a180",
   "metadata": {},
   "outputs": [
    {
     "name": "stderr",
     "output_type": "stream",
     "text": [
      "WARNING: You are using pip version 21.1.3; however, version 25.1 is available.\n",
      "You should consider upgrading via the 'c:\\users\\38641\\documents\\faks\\5.letnik\\2.semester\\nlp\\ul-fri-nlp-course-project-2024-2025-1-6-3-musketeers\\venv\\scripts\\python.exe -m pip install --upgrade pip' command.\n"
     ]
    },
    {
     "name": "stdout",
     "output_type": "stream",
     "text": [
      "Looking in indexes: https://download.pytorch.org/whl/cpu\n",
      "Requirement already satisfied: torch in c:\\users\\38641\\documents\\faks\\5.letnik\\2.semester\\nlp\\ul-fri-nlp-course-project-2024-2025-1-6-3-musketeers\\venv\\lib\\site-packages (2.7.0)\n",
      "Requirement already satisfied: transformers in c:\\users\\38641\\documents\\faks\\5.letnik\\2.semester\\nlp\\ul-fri-nlp-course-project-2024-2025-1-6-3-musketeers\\venv\\lib\\site-packages (4.51.3)\n",
      "Requirement already satisfied: filelock in c:\\users\\38641\\documents\\faks\\5.letnik\\2.semester\\nlp\\ul-fri-nlp-course-project-2024-2025-1-6-3-musketeers\\venv\\lib\\site-packages (from torch) (3.18.0)\n",
      "Requirement already satisfied: typing-extensions>=4.10.0 in c:\\users\\38641\\documents\\faks\\5.letnik\\2.semester\\nlp\\ul-fri-nlp-course-project-2024-2025-1-6-3-musketeers\\venv\\lib\\site-packages (from torch) (4.13.2)\n",
      "Requirement already satisfied: sympy>=1.13.3 in c:\\users\\38641\\documents\\faks\\5.letnik\\2.semester\\nlp\\ul-fri-nlp-course-project-2024-2025-1-6-3-musketeers\\venv\\lib\\site-packages (from torch) (1.14.0)\n",
      "Requirement already satisfied: networkx in c:\\users\\38641\\documents\\faks\\5.letnik\\2.semester\\nlp\\ul-fri-nlp-course-project-2024-2025-1-6-3-musketeers\\venv\\lib\\site-packages (from torch) (3.2.1)\n",
      "Requirement already satisfied: jinja2 in c:\\users\\38641\\documents\\faks\\5.letnik\\2.semester\\nlp\\ul-fri-nlp-course-project-2024-2025-1-6-3-musketeers\\venv\\lib\\site-packages (from torch) (3.1.6)\n",
      "Requirement already satisfied: fsspec in c:\\users\\38641\\documents\\faks\\5.letnik\\2.semester\\nlp\\ul-fri-nlp-course-project-2024-2025-1-6-3-musketeers\\venv\\lib\\site-packages (from torch) (2025.3.2)\n",
      "Requirement already satisfied: mpmath<1.4,>=1.1.0 in c:\\users\\38641\\documents\\faks\\5.letnik\\2.semester\\nlp\\ul-fri-nlp-course-project-2024-2025-1-6-3-musketeers\\venv\\lib\\site-packages (from sympy>=1.13.3->torch) (1.3.0)\n",
      "Requirement already satisfied: numpy>=1.17 in c:\\users\\38641\\documents\\faks\\5.letnik\\2.semester\\nlp\\ul-fri-nlp-course-project-2024-2025-1-6-3-musketeers\\venv\\lib\\site-packages (from transformers) (2.0.2)\n",
      "Requirement already satisfied: pyyaml>=5.1 in c:\\users\\38641\\documents\\faks\\5.letnik\\2.semester\\nlp\\ul-fri-nlp-course-project-2024-2025-1-6-3-musketeers\\venv\\lib\\site-packages (from transformers) (6.0.2)\n",
      "Requirement already satisfied: huggingface-hub<1.0,>=0.30.0 in c:\\users\\38641\\documents\\faks\\5.letnik\\2.semester\\nlp\\ul-fri-nlp-course-project-2024-2025-1-6-3-musketeers\\venv\\lib\\site-packages (from transformers) (0.30.2)\n",
      "Requirement already satisfied: safetensors>=0.4.3 in c:\\users\\38641\\documents\\faks\\5.letnik\\2.semester\\nlp\\ul-fri-nlp-course-project-2024-2025-1-6-3-musketeers\\venv\\lib\\site-packages (from transformers) (0.5.3)\n",
      "Requirement already satisfied: tokenizers<0.22,>=0.21 in c:\\users\\38641\\documents\\faks\\5.letnik\\2.semester\\nlp\\ul-fri-nlp-course-project-2024-2025-1-6-3-musketeers\\venv\\lib\\site-packages (from transformers) (0.21.1)\n",
      "Requirement already satisfied: requests in c:\\users\\38641\\documents\\faks\\5.letnik\\2.semester\\nlp\\ul-fri-nlp-course-project-2024-2025-1-6-3-musketeers\\venv\\lib\\site-packages (from transformers) (2.32.3)\n",
      "Requirement already satisfied: tqdm>=4.27 in c:\\users\\38641\\documents\\faks\\5.letnik\\2.semester\\nlp\\ul-fri-nlp-course-project-2024-2025-1-6-3-musketeers\\venv\\lib\\site-packages (from transformers) (4.67.1)\n",
      "Requirement already satisfied: packaging>=20.0 in c:\\users\\38641\\documents\\faks\\5.letnik\\2.semester\\nlp\\ul-fri-nlp-course-project-2024-2025-1-6-3-musketeers\\venv\\lib\\site-packages (from transformers) (25.0)\n",
      "Requirement already satisfied: regex!=2019.12.17 in c:\\users\\38641\\documents\\faks\\5.letnik\\2.semester\\nlp\\ul-fri-nlp-course-project-2024-2025-1-6-3-musketeers\\venv\\lib\\site-packages (from transformers) (2024.11.6)\n",
      "Requirement already satisfied: colorama in c:\\users\\38641\\documents\\faks\\5.letnik\\2.semester\\nlp\\ul-fri-nlp-course-project-2024-2025-1-6-3-musketeers\\venv\\lib\\site-packages (from tqdm>=4.27->transformers) (0.4.6)\n",
      "Requirement already satisfied: MarkupSafe>=2.0 in c:\\users\\38641\\documents\\faks\\5.letnik\\2.semester\\nlp\\ul-fri-nlp-course-project-2024-2025-1-6-3-musketeers\\venv\\lib\\site-packages (from jinja2->torch) (3.0.2)\n",
      "Requirement already satisfied: certifi>=2017.4.17 in c:\\users\\38641\\documents\\faks\\5.letnik\\2.semester\\nlp\\ul-fri-nlp-course-project-2024-2025-1-6-3-musketeers\\venv\\lib\\site-packages (from requests->transformers) (2025.4.26)\n",
      "Requirement already satisfied: charset-normalizer<4,>=2 in c:\\users\\38641\\documents\\faks\\5.letnik\\2.semester\\nlp\\ul-fri-nlp-course-project-2024-2025-1-6-3-musketeers\\venv\\lib\\site-packages (from requests->transformers) (3.4.1)\n",
      "Requirement already satisfied: urllib3<3,>=1.21.1 in c:\\users\\38641\\documents\\faks\\5.letnik\\2.semester\\nlp\\ul-fri-nlp-course-project-2024-2025-1-6-3-musketeers\\venv\\lib\\site-packages (from requests->transformers) (2.4.0)\n",
      "Requirement already satisfied: idna<4,>=2.5 in c:\\users\\38641\\documents\\faks\\5.letnik\\2.semester\\nlp\\ul-fri-nlp-course-project-2024-2025-1-6-3-musketeers\\venv\\lib\\site-packages (from requests->transformers) (3.10)\n",
      "Requirement already satisfied: accelerate in c:\\users\\38641\\documents\\faks\\5.letnik\\2.semester\\nlp\\ul-fri-nlp-course-project-2024-2025-1-6-3-musketeers\\venv\\lib\\site-packages (1.6.0)\n",
      "Requirement already satisfied: huggingface-hub>=0.21.0 in c:\\users\\38641\\documents\\faks\\5.letnik\\2.semester\\nlp\\ul-fri-nlp-course-project-2024-2025-1-6-3-musketeers\\venv\\lib\\site-packages (from accelerate) (0.30.2)\n",
      "Requirement already satisfied: pyyaml in c:\\users\\38641\\documents\\faks\\5.letnik\\2.semester\\nlp\\ul-fri-nlp-course-project-2024-2025-1-6-3-musketeers\\venv\\lib\\site-packages (from accelerate) (6.0.2)\n",
      "Requirement already satisfied: psutil in c:\\users\\38641\\documents\\faks\\5.letnik\\2.semester\\nlp\\ul-fri-nlp-course-project-2024-2025-1-6-3-musketeers\\venv\\lib\\site-packages (from accelerate) (7.0.0)\n",
      "Requirement already satisfied: packaging>=20.0 in c:\\users\\38641\\documents\\faks\\5.letnik\\2.semester\\nlp\\ul-fri-nlp-course-project-2024-2025-1-6-3-musketeers\\venv\\lib\\site-packages (from accelerate) (25.0)\n",
      "Requirement already satisfied: torch>=2.0.0 in c:\\users\\38641\\documents\\faks\\5.letnik\\2.semester\\nlp\\ul-fri-nlp-course-project-2024-2025-1-6-3-musketeers\\venv\\lib\\site-packages (from accelerate) (2.7.0)\n",
      "Requirement already satisfied: safetensors>=0.4.3 in c:\\users\\38641\\documents\\faks\\5.letnik\\2.semester\\nlp\\ul-fri-nlp-course-project-2024-2025-1-6-3-musketeers\\venv\\lib\\site-packages (from accelerate) (0.5.3)\n",
      "Requirement already satisfied: numpy<3.0.0,>=1.17 in c:\\users\\38641\\documents\\faks\\5.letnik\\2.semester\\nlp\\ul-fri-nlp-course-project-2024-2025-1-6-3-musketeers\\venv\\lib\\site-packages (from accelerate) (2.0.2)\n",
      "Requirement already satisfied: fsspec>=2023.5.0 in c:\\users\\38641\\documents\\faks\\5.letnik\\2.semester\\nlp\\ul-fri-nlp-course-project-2024-2025-1-6-3-musketeers\\venv\\lib\\site-packages (from huggingface-hub>=0.21.0->accelerate) (2025.3.2)\n",
      "Requirement already satisfied: typing-extensions>=3.7.4.3 in c:\\users\\38641\\documents\\faks\\5.letnik\\2.semester\\nlp\\ul-fri-nlp-course-project-2024-2025-1-6-3-musketeers\\venv\\lib\\site-packages (from huggingface-hub>=0.21.0->accelerate) (4.13.2)\n",
      "Requirement already satisfied: requests in c:\\users\\38641\\documents\\faks\\5.letnik\\2.semester\\nlp\\ul-fri-nlp-course-project-2024-2025-1-6-3-musketeers\\venv\\lib\\site-packages (from huggingface-hub>=0.21.0->accelerate) (2.32.3)\n",
      "Requirement already satisfied: filelock in c:\\users\\38641\\documents\\faks\\5.letnik\\2.semester\\nlp\\ul-fri-nlp-course-project-2024-2025-1-6-3-musketeers\\venv\\lib\\site-packages (from huggingface-hub>=0.21.0->accelerate) (3.18.0)\n",
      "Requirement already satisfied: tqdm>=4.42.1 in c:\\users\\38641\\documents\\faks\\5.letnik\\2.semester\\nlp\\ul-fri-nlp-course-project-2024-2025-1-6-3-musketeers\\venv\\lib\\site-packages (from huggingface-hub>=0.21.0->accelerate) (4.67.1)\n",
      "Requirement already satisfied: sympy>=1.13.3 in c:\\users\\38641\\documents\\faks\\5.letnik\\2.semester\\nlp\\ul-fri-nlp-course-project-2024-2025-1-6-3-musketeers\\venv\\lib\\site-packages (from torch>=2.0.0->accelerate) (1.14.0)\n",
      "Requirement already satisfied: networkx in c:\\users\\38641\\documents\\faks\\5.letnik\\2.semester\\nlp\\ul-fri-nlp-course-project-2024-2025-1-6-3-musketeers\\venv\\lib\\site-packages (from torch>=2.0.0->accelerate) (3.2.1)\n",
      "Requirement already satisfied: jinja2 in c:\\users\\38641\\documents\\faks\\5.letnik\\2.semester\\nlp\\ul-fri-nlp-course-project-2024-2025-1-6-3-musketeers\\venv\\lib\\site-packages (from torch>=2.0.0->accelerate) (3.1.6)\n",
      "Requirement already satisfied: mpmath<1.4,>=1.1.0 in c:\\users\\38641\\documents\\faks\\5.letnik\\2.semester\\nlp\\ul-fri-nlp-course-project-2024-2025-1-6-3-musketeers\\venv\\lib\\site-packages (from sympy>=1.13.3->torch>=2.0.0->accelerate) (1.3.0)\n",
      "Requirement already satisfied: colorama in c:\\users\\38641\\documents\\faks\\5.letnik\\2.semester\\nlp\\ul-fri-nlp-course-project-2024-2025-1-6-3-musketeers\\venv\\lib\\site-packages (from tqdm>=4.42.1->huggingface-hub>=0.21.0->accelerate) (0.4.6)\n",
      "Requirement already satisfied: MarkupSafe>=2.0 in c:\\users\\38641\\documents\\faks\\5.letnik\\2.semester\\nlp\\ul-fri-nlp-course-project-2024-2025-1-6-3-musketeers\\venv\\lib\\site-packages (from jinja2->torch>=2.0.0->accelerate) (3.0.2)\n",
      "Requirement already satisfied: certifi>=2017.4.17 in c:\\users\\38641\\documents\\faks\\5.letnik\\2.semester\\nlp\\ul-fri-nlp-course-project-2024-2025-1-6-3-musketeers\\venv\\lib\\site-packages (from requests->huggingface-hub>=0.21.0->accelerate) (2025.4.26)\n",
      "Requirement already satisfied: charset-normalizer<4,>=2 in c:\\users\\38641\\documents\\faks\\5.letnik\\2.semester\\nlp\\ul-fri-nlp-course-project-2024-2025-1-6-3-musketeers\\venv\\lib\\site-packages (from requests->huggingface-hub>=0.21.0->accelerate) (3.4.1)\n",
      "Requirement already satisfied: urllib3<3,>=1.21.1 in c:\\users\\38641\\documents\\faks\\5.letnik\\2.semester\\nlp\\ul-fri-nlp-course-project-2024-2025-1-6-3-musketeers\\venv\\lib\\site-packages (from requests->huggingface-hub>=0.21.0->accelerate) (2.4.0)\n",
      "Requirement already satisfied: idna<4,>=2.5 in c:\\users\\38641\\documents\\faks\\5.letnik\\2.semester\\nlp\\ul-fri-nlp-course-project-2024-2025-1-6-3-musketeers\\venv\\lib\\site-packages (from requests->huggingface-hub>=0.21.0->accelerate) (3.10)\n"
     ]
    },
    {
     "name": "stderr",
     "output_type": "stream",
     "text": [
      "WARNING: You are using pip version 21.1.3; however, version 25.1 is available.\n",
      "You should consider upgrading via the 'c:\\users\\38641\\documents\\faks\\5.letnik\\2.semester\\nlp\\ul-fri-nlp-course-project-2024-2025-1-6-3-musketeers\\venv\\scripts\\python.exe -m pip install --upgrade pip' command.\n"
     ]
    }
   ],
   "source": [
    "!pip install torch transformers --index-url https://download.pytorch.org/whl/cpu\n",
    "! pip install accelerate"
   ]
  },
  {
   "cell_type": "code",
   "execution_count": 42,
   "id": "a0d77af8",
   "metadata": {},
   "outputs": [
    {
     "name": "stdout",
     "output_type": "stream",
     "text": [
      "Requirement already satisfied: transformers in c:\\users\\38641\\documents\\faks\\5.letnik\\2.semester\\nlp\\ul-fri-nlp-course-project-2024-2025-1-6-3-musketeers\\venv\\lib\\site-packages (4.51.3)\n",
      "Requirement already satisfied: accelerate in c:\\users\\38641\\documents\\faks\\5.letnik\\2.semester\\nlp\\ul-fri-nlp-course-project-2024-2025-1-6-3-musketeers\\venv\\lib\\site-packages (1.6.0)\n",
      "Requirement already satisfied: packaging>=20.0 in c:\\users\\38641\\documents\\faks\\5.letnik\\2.semester\\nlp\\ul-fri-nlp-course-project-2024-2025-1-6-3-musketeers\\venv\\lib\\site-packages (from transformers) (25.0)\n",
      "Requirement already satisfied: pyyaml>=5.1 in c:\\users\\38641\\documents\\faks\\5.letnik\\2.semester\\nlp\\ul-fri-nlp-course-project-2024-2025-1-6-3-musketeers\\venv\\lib\\site-packages (from transformers) (6.0.2)\n",
      "Requirement already satisfied: filelock in c:\\users\\38641\\documents\\faks\\5.letnik\\2.semester\\nlp\\ul-fri-nlp-course-project-2024-2025-1-6-3-musketeers\\venv\\lib\\site-packages (from transformers) (3.18.0)\n",
      "Requirement already satisfied: requests in c:\\users\\38641\\documents\\faks\\5.letnik\\2.semester\\nlp\\ul-fri-nlp-course-project-2024-2025-1-6-3-musketeers\\venv\\lib\\site-packages (from transformers) (2.32.3)\n",
      "Requirement already satisfied: regex!=2019.12.17 in c:\\users\\38641\\documents\\faks\\5.letnik\\2.semester\\nlp\\ul-fri-nlp-course-project-2024-2025-1-6-3-musketeers\\venv\\lib\\site-packages (from transformers) (2024.11.6)\n",
      "Requirement already satisfied: tqdm>=4.27 in c:\\users\\38641\\documents\\faks\\5.letnik\\2.semester\\nlp\\ul-fri-nlp-course-project-2024-2025-1-6-3-musketeers\\venv\\lib\\site-packages (from transformers) (4.67.1)\n",
      "Requirement already satisfied: safetensors>=0.4.3 in c:\\users\\38641\\documents\\faks\\5.letnik\\2.semester\\nlp\\ul-fri-nlp-course-project-2024-2025-1-6-3-musketeers\\venv\\lib\\site-packages (from transformers) (0.5.3)\n",
      "Requirement already satisfied: tokenizers<0.22,>=0.21 in c:\\users\\38641\\documents\\faks\\5.letnik\\2.semester\\nlp\\ul-fri-nlp-course-project-2024-2025-1-6-3-musketeers\\venv\\lib\\site-packages (from transformers) (0.21.1)\n",
      "Requirement already satisfied: huggingface-hub<1.0,>=0.30.0 in c:\\users\\38641\\documents\\faks\\5.letnik\\2.semester\\nlp\\ul-fri-nlp-course-project-2024-2025-1-6-3-musketeers\\venv\\lib\\site-packages (from transformers) (0.30.2)\n",
      "Requirement already satisfied: numpy>=1.17 in c:\\users\\38641\\documents\\faks\\5.letnik\\2.semester\\nlp\\ul-fri-nlp-course-project-2024-2025-1-6-3-musketeers\\venv\\lib\\site-packages (from transformers) (2.0.2)\n",
      "Requirement already satisfied: fsspec>=2023.5.0 in c:\\users\\38641\\documents\\faks\\5.letnik\\2.semester\\nlp\\ul-fri-nlp-course-project-2024-2025-1-6-3-musketeers\\venv\\lib\\site-packages (from huggingface-hub<1.0,>=0.30.0->transformers) (2025.3.2)\n",
      "Requirement already satisfied: typing-extensions>=3.7.4.3 in c:\\users\\38641\\documents\\faks\\5.letnik\\2.semester\\nlp\\ul-fri-nlp-course-project-2024-2025-1-6-3-musketeers\\venv\\lib\\site-packages (from huggingface-hub<1.0,>=0.30.0->transformers) (4.13.2)\n",
      "Requirement already satisfied: colorama in c:\\users\\38641\\documents\\faks\\5.letnik\\2.semester\\nlp\\ul-fri-nlp-course-project-2024-2025-1-6-3-musketeers\\venv\\lib\\site-packages (from tqdm>=4.27->transformers) (0.4.6)\n",
      "Requirement already satisfied: psutil in c:\\users\\38641\\documents\\faks\\5.letnik\\2.semester\\nlp\\ul-fri-nlp-course-project-2024-2025-1-6-3-musketeers\\venv\\lib\\site-packages (from accelerate) (7.0.0)\n",
      "Requirement already satisfied: torch>=2.0.0 in c:\\users\\38641\\documents\\faks\\5.letnik\\2.semester\\nlp\\ul-fri-nlp-course-project-2024-2025-1-6-3-musketeers\\venv\\lib\\site-packages (from accelerate) (2.7.0)\n",
      "Requirement already satisfied: jinja2 in c:\\users\\38641\\documents\\faks\\5.letnik\\2.semester\\nlp\\ul-fri-nlp-course-project-2024-2025-1-6-3-musketeers\\venv\\lib\\site-packages (from torch>=2.0.0->accelerate) (3.1.6)\n",
      "Requirement already satisfied: sympy>=1.13.3 in c:\\users\\38641\\documents\\faks\\5.letnik\\2.semester\\nlp\\ul-fri-nlp-course-project-2024-2025-1-6-3-musketeers\\venv\\lib\\site-packages (from torch>=2.0.0->accelerate) (1.14.0)\n",
      "Requirement already satisfied: networkx in c:\\users\\38641\\documents\\faks\\5.letnik\\2.semester\\nlp\\ul-fri-nlp-course-project-2024-2025-1-6-3-musketeers\\venv\\lib\\site-packages (from torch>=2.0.0->accelerate) (3.2.1)\n",
      "Requirement already satisfied: mpmath<1.4,>=1.1.0 in c:\\users\\38641\\documents\\faks\\5.letnik\\2.semester\\nlp\\ul-fri-nlp-course-project-2024-2025-1-6-3-musketeers\\venv\\lib\\site-packages (from sympy>=1.13.3->torch>=2.0.0->accelerate) (1.3.0)\n",
      "Requirement already satisfied: MarkupSafe>=2.0 in c:\\users\\38641\\documents\\faks\\5.letnik\\2.semester\\nlp\\ul-fri-nlp-course-project-2024-2025-1-6-3-musketeers\\venv\\lib\\site-packages (from jinja2->torch>=2.0.0->accelerate) (3.0.2)\n",
      "Requirement already satisfied: urllib3<3,>=1.21.1 in c:\\users\\38641\\documents\\faks\\5.letnik\\2.semester\\nlp\\ul-fri-nlp-course-project-2024-2025-1-6-3-musketeers\\venv\\lib\\site-packages (from requests->transformers) (2.4.0)\n",
      "Requirement already satisfied: certifi>=2017.4.17 in c:\\users\\38641\\documents\\faks\\5.letnik\\2.semester\\nlp\\ul-fri-nlp-course-project-2024-2025-1-6-3-musketeers\\venv\\lib\\site-packages (from requests->transformers) (2025.4.26)\n",
      "Requirement already satisfied: idna<4,>=2.5 in c:\\users\\38641\\documents\\faks\\5.letnik\\2.semester\\nlp\\ul-fri-nlp-course-project-2024-2025-1-6-3-musketeers\\venv\\lib\\site-packages (from requests->transformers) (3.10)\n",
      "Requirement already satisfied: charset-normalizer<4,>=2 in c:\\users\\38641\\documents\\faks\\5.letnik\\2.semester\\nlp\\ul-fri-nlp-course-project-2024-2025-1-6-3-musketeers\\venv\\lib\\site-packages (from requests->transformers) (3.4.1)\n"
     ]
    },
    {
     "name": "stderr",
     "output_type": "stream",
     "text": [
      "WARNING: You are using pip version 21.1.3; however, version 25.1 is available.\n",
      "You should consider upgrading via the 'c:\\users\\38641\\documents\\faks\\5.letnik\\2.semester\\nlp\\ul-fri-nlp-course-project-2024-2025-1-6-3-musketeers\\venv\\scripts\\python.exe -m pip install --upgrade pip' command.\n"
     ]
    }
   ],
   "source": [
    "!pip install transformers accelerate"
   ]
  },
  {
   "cell_type": "markdown",
   "id": "b494b8d1",
   "metadata": {},
   "source": [
    "Test the whole RAG pipeline on a small LLM that runs on CPU. Compare results to plain LLM, to see if retrieval even helps."
   ]
  },
  {
   "cell_type": "code",
   "execution_count": null,
   "id": "fb2d0044",
   "metadata": {},
   "outputs": [],
   "source": [
    "# for testing only\n",
    "from transformers import AutoTokenizer, AutoModelForCausalLM\n",
    "\n",
    "class RAG:\n",
    "    def __init__(self, embedder, collection, retrieve_number=3, gpu_based=False):\n",
    "        model_id = \"stabilityai/stablelm-2-zephyr-1_6b\" if gpu_based else \"TinyLlama/TinyLlama-1.1B-Chat-v1.0\"\n",
    "        self.device = \"cuda\" if self.gpu_based else \"cpu\"\n",
    "        self.tokenizer = AutoTokenizer.from_pretrained(model_id)\n",
    "        self.llm = AutoModelForCausalLM.from_pretrained(model_id, device_map=self.device)\n",
    "        self.embedder = embedder\n",
    "        self.retriever = collection\n",
    "        self.retrieve_number = retrieve_number\n",
    "\n",
    "\n",
    "    def generate(self, query):\n",
    "        query_embedding = self.embedder.encode(query.lower()).tolist()\n",
    "        results = self.retriever.query(query_embeddings=[query_embedding], n_results=self.retrieve_number)\n",
    "        prompt = self.build_prompt(query, results)\n",
    "        inputs = self.tokenizer(prompt, return_tensors=\"pt\").to(self.device)\n",
    "        outputs = self.llm.generate(**inputs, max_new_tokens=200)\n",
    "        output = self.tokenizer.decode(outputs[0], skip_special_tokens=True)\n",
    "        return output.split(\"Answer:\")[1]\n",
    "\n",
    "    def context_from_results(self, results):\n",
    "        contexts = []\n",
    "        for document, metadata in zip(results[\"documents\"], results[\"metadatas\"]):\n",
    "            metadata = metadata[0]\n",
    "            document = document[0]\n",
    "            if metadata[\"question\"]:\n",
    "                contexts.append(metadata[\"answer\"])\n",
    "            else:\n",
    "                contexts.append(document)\n",
    "        return contexts\n",
    "\n",
    "    def build_prompt(self, query, results):\n",
    "        contexts = self.context_from_results(results)\n",
    "        return f'''\n",
    "            Answer the following code related question using the context provided inside triple qoutes in it is useful.\n",
    "            In the answer provide an example of code that is related to the question.\n",
    "            If you do not know the answer, say that you do not know. Do not try to invent the solution.\n",
    "            \n",
    "\n",
    "            Question: {query}\n",
    "\n",
    "\n",
    "            ```{''.join(f\"Context {i}: {context}{chr(10)}{chr(10)}\" for i, context in enumerate(contexts))}´´´\n",
    "\n",
    "            \n",
    "            Answer:\n",
    "\n",
    "            '''"
   ]
  },
  {
   "cell_type": "code",
   "execution_count": null,
   "id": "0d58d3c8",
   "metadata": {},
   "outputs": [],
   "source": [
    "class BasicLLM:\n",
    "    def __init__(self, gpu_based=False):\n",
    "        model_id = \"stabilityai/stablelm-2-zephyr-1_6b\" if gpu_based else \"TinyLlama/TinyLlama-1.1B-Chat-v1.0\"\n",
    "        self.device = \"cuda\" if self.gpu_based else \"cpu\"\n",
    "        self.llm = AutoModelForCausalLM.from_pretrained(model_id, device_map=self.device)\n",
    "        self.tokenizer = AutoTokenizer.from_pretrained(model_id)\n",
    "        self.gpu_based = gpu_based\n",
    "\n",
    "    def generate(self, query):\n",
    "        inputs = self.tokenizer(query, return_tensors=\"pt\").to(self.device)\n",
    "        outputs = self.llm.generate(**inputs, max_new_tokens=200)\n",
    "        output = self.tokenizer.decode(outputs[0], skip_special_tokens=True)\n",
    "        return output.split(\"?\")[1]\n"
   ]
  },
  {
   "cell_type": "code",
   "execution_count": null,
   "id": "f7c6c037",
   "metadata": {},
   "outputs": [
    {
     "name": "stdout",
     "output_type": "stream",
     "text": [
      "RAG answer:\n",
      "\n",
      "\n",
      "            \n",
      "            In this example, we are parsing a JSON object using the `json` library.\n",
      "\n",
      "            We start by importing the `json` library and creating a dictionary from the JSON data.\n",
      "\n",
      "            We then iterate over the keys of the dictionary and extract the values for each key.\n",
      "\n",
      "            We use the `get` method to extract the value for the `uid` key, which is a list of strings.\n",
      "\n",
      "            We then convert the list of strings to a string using the `join` method.\n",
      "\n",
      "            Finally, we assign the resulting string to the `uid` variable.\n",
      "\n",
      "            Here's the complete code:\n",
      "\n",
      "            ```\n",
      "            import json\n",
      "\n",
      "            data = {'uid': ['restest'], 'mail': [''], 'givenname': ['research'], 'cn': ['research test account'], 'sn': ['account']}\n",
      "\n",
      "            uid = [v[0] for (k\n",
      "\n",
      "\n",
      "Basic answer:\n",
      " I am trying to parse a json file in python. The json file contains a list of objects with keys \"name\" and \"age\". I want to extract the name and age from each object in the list. Here's my code:\n",
      "```\n",
      "import json\n",
      "\n",
      "with open('data.json', 'r') as f:\n",
      "    data = json.load(f)\n",
      "\n",
      "for item in data:\n",
      "    print(item['name'], item['age'])\n",
      "```\n",
      "\n",
      "This code works fine for a single object in the list. However, when I try to parse multiple objects, it gives me an error:\n",
      "```\n",
      "Traceback (most recent call last):\n",
      "  File \"test.py\", line 10, in <module>\n",
      "    print(item['name'], item['age'])\n",
      "KeyError: 'name'\n",
      "```\n",
      "\n",
      "I don't understand why it's giving me an error for multiple objects. Can you\n"
     ]
    }
   ],
   "source": [
    "# tuki nej bo vprašaj na koncu (nej bo samo en vprašaj)\n",
    "query = \"How to parse json in python?\"\n",
    "\n",
    "code_llm = RAG(model, collection)\n",
    "answer = code_llm.generate(query)\n",
    "print(f\"RAG answer:\\n{answer}\")\n",
    "\n",
    "print(\"\\n\")\n",
    "basicLLM = BasicLLM()\n",
    "basic_answer = basicLLM.generate(query)\n",
    "print(f\"Basic answer:\\n{basic_answer}\")"
   ]
  }
 ],
 "metadata": {
  "kernelspec": {
   "display_name": "venv",
   "language": "python",
   "name": "python3"
  },
  "language_info": {
   "codemirror_mode": {
    "name": "ipython",
    "version": 3
   },
   "file_extension": ".py",
   "mimetype": "text/x-python",
   "name": "python",
   "nbconvert_exporter": "python",
   "pygments_lexer": "ipython3",
   "version": "3.9.6"
  }
 },
 "nbformat": 4,
 "nbformat_minor": 5
}

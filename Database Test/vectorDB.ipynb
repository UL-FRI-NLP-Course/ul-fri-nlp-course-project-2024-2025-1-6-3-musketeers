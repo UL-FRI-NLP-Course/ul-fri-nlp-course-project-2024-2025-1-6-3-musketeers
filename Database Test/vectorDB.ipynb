{
 "cells": [
  {
   "cell_type": "code",
   "execution_count": 30,
   "id": "b685d3b3",
   "metadata": {},
   "outputs": [],
   "source": [
    "import chromadb\n",
    "from sentence_transformers import SentenceTransformer\n",
    "import pandas as pd\n",
    "import pandas as pd\n",
    "import time\n",
    "import uuid\n",
    "from bs4 import BeautifulSoup"
   ]
  },
  {
   "cell_type": "code",
   "execution_count": 2,
   "id": "8a762892",
   "metadata": {},
   "outputs": [],
   "source": [
    "# Initialize Chroma client\n",
    "client = chromadb.PersistentClient(path=\"./chroma_stackoverflow_db\")\n",
    "\n",
    "collection = client.get_or_create_collection(\n",
    "    name=\"stackoverflow_demo\",\n",
    "    metadata={\"hnsw:space\": \"cosine\"}\n",
    ")"
   ]
  },
  {
   "cell_type": "code",
   "execution_count": null,
   "id": "6265237a",
   "metadata": {},
   "outputs": [
    {
     "name": "stdout",
     "output_type": "stream",
     "text": [
      "Loaded 201467 questions\n"
     ]
    }
   ],
   "source": [
    "data = ['python_questions0.csv']\n",
    "df = pd.DataFrame()\n",
    "for d in data:\n",
    "    df = pd.concat([df, pd.read_csv(d)], ignore_index=True)\n",
    "\n",
    "    \n",
    "df = df.loc[:, [\"tags\", \"question_title\", \"question_body\", \"answer\", \"question_score\"]]\n",
    "total_docs = len(df)\n",
    "print(f\"Loaded {total_docs} questions\")"
   ]
  },
  {
   "cell_type": "code",
   "execution_count": 32,
   "id": "4129acc7",
   "metadata": {},
   "outputs": [],
   "source": [
    "# Initialize model\n",
    "model = SentenceTransformer('all-MiniLM-L6-v2')"
   ]
  },
  {
   "cell_type": "code",
   "execution_count": 33,
   "id": "aeade83e",
   "metadata": {},
   "outputs": [],
   "source": [
    "def print_progress(current, total, start_time, operation=\"Processing\"):\n",
    "    elapsed = time.time() - start_time\n",
    "    percent = current / total\n",
    "    eta = (elapsed / current) * (total - current) if current > 0 else 0\n",
    "    print(\n",
    "        f\"\\r{operation}: {current}/{total} ({percent:.1%}) | \"\n",
    "        f\"Elapsed: {elapsed:.1f}s | ETA: {eta:.1f}s\",\n",
    "        end=\"\", flush=True\n",
    "    )"
   ]
  },
  {
   "cell_type": "code",
   "execution_count": null,
   "id": "97e3462c",
   "metadata": {},
   "outputs": [
    {
     "name": "stdout",
     "output_type": "stream",
     "text": [
      "Processing: 201467/201467 (100.0%) | Elapsed: 2227.0s | ETA: 0.0sss\n",
      "\n",
      "Successfully added 201467 documents\n",
      "Total documents in collection: 363069\n",
      "Total time: 2227.01 seconds\n"
     ]
    }
   ],
   "source": [
    "BATCH_SIZE = 200\n",
    "total_added = 0\n",
    "start_time = time.time()\n",
    "\n",
    "for batch_num in range(0, total_docs, BATCH_SIZE):\n",
    "    batch = df.iloc[batch_num:batch_num + BATCH_SIZE]\n",
    "    \n",
    "    documents = []\n",
    "    metadatas = []\n",
    "    ids = []\n",
    "    \n",
    "    for ix, row in batch.iterrows():\n",
    "        chunk = row[\"chunk\"]\n",
    "        metadata = row[\"metadata\"]\n",
    "        documents.append(chunk)\n",
    "        metadatas.append(metadata)\n",
    "        ids.append(str(uuid.uuid4()))  # Generate unique UUID for each document\n",
    "    \n",
    "    collection.add(\n",
    "        documents=documents,\n",
    "        metadatas=metadatas,\n",
    "        ids=ids\n",
    "    )\n",
    "    total_added += len(documents)\n",
    "\n",
    "    print_progress(min(batch_num + BATCH_SIZE, total_chunks), total_chunks, start_time)\n",
    "\n",
    "\n",
    "print(f\"\\n\\nSuccessfully added {total_added} documents\")\n",
    "print(f\"Total documents in collection: {collection.count()}\")\n",
    "print(f\"Total time: {time.time() - start_time:.2f} seconds\")"
   ]
  },
  {
   "cell_type": "code",
   "execution_count": null,
   "id": "9dbff415",
   "metadata": {},
   "outputs": [
    {
     "name": "stdout",
     "output_type": "stream",
     "text": [
      "Total documents: 363069\n",
      "\n",
      "Document 1:\n",
      "ID: 18172851\n",
      "Content: Deleting DataFrame row in Pandas based on column value\n",
      "<p>I have the following DataFrame:</p>\n",
      "\n",
      "<pre><code>             daysago  line_race rating        rw    wrating\n",
      " line_date                        ...\n",
      "Metadata: {'score': 256, 'tags': 'python|pandas'}\n",
      "\n",
      "Document 2:\n",
      "ID: 4151128\n",
      "Content: What are the differences between numpy arrays and matrices? Which one should I use?\n",
      "<p>What are the advantages and disadvantages of each?</p>\n",
      "\n",
      "<p>From what I've seen, either one can work as a replacem...\n",
      "Metadata: {'tags': 'python|arrays|matrix|numpy', 'score': 256}\n",
      "\n",
      "Document 3:\n",
      "ID: 4450592\n",
      "Content: Is there a Python equivalent to Ruby's string interpolation?\n",
      "<p>Ruby example:</p>\n",
      "\n",
      "<pre><code>name = \"Spongebob Squarepants\"\n",
      "puts \"Who lives in a Pineapple under the sea? \\n#{name}.\"\n",
      "</code></pre>\n",
      "\n",
      "<p...\n",
      "Metadata: {'score': 256, 'tags': 'python|string-interpolation|language-comparisons'}\n"
     ]
    }
   ],
   "source": [
    "\n",
    "results = collection.get()\n",
    "print(f\"Total documents: {len(results['ids'])}\")\n",
    "\n",
    "# Inspect first few items\n",
    "for i in range(min(3, len(results['ids']))):\n",
    "    print(f\"\\nDocument {i+1}:\")\n",
    "    print(f\"ID: {results['ids'][i]}\")\n",
    "    print(f\"Content: {results['documents'][i][:200]}...\")  # First 200 chars\n",
    "    print(f\"Metadata: {results['metadatas'][i]}\")"
   ]
  },
  {
   "cell_type": "code",
   "execution_count": null,
   "id": "436fbc8d",
   "metadata": {},
   "outputs": [
    {
     "name": "stdout",
     "output_type": "stream",
     "text": [
      "\n",
      "Top 3 similar questions:\n",
      "\n",
      "Result 1:\n",
      "Score: 0.72\n",
      "Content: Parsing formatted JSON with Python\n",
      "<p>I want to parse JSON. Its ok if I write JSON in one line</p>\n",
      "\n",
      "<pre><code>json_input = '{ \"rate_of_climbing\": 18.4, \"speed_factor\": 520}'\n",
      "</code></pre>\n",
      "\n",
      "<p>But if ...\n",
      "Tags: python|json|parsing|formatting\n",
      "\n",
      "Result 2:\n",
      "Score: 0.72\n",
      "Content: Parsing formatted JSON with Python\n",
      "<p>I want to parse JSON. Its ok if I write JSON in one line</p>\n",
      "\n",
      "<pre><code>json_input = '{ \"rate_of_climbing\": 18.4, \"speed_factor\": 520}'\n",
      "</code></pre>\n",
      "\n",
      "<p>But if ...\n",
      "Tags: python|json|parsing|formatting\n",
      "\n",
      "Result 3:\n",
      "Score: 0.71\n",
      "Content: How to parse JSON file for a specific key and value?\n",
      "<p>Currently, have multiple JSON files to parse. In each file, I would look for <code>“ID”: “1”</code>:</p>\n",
      "\n",
      "<pre><code>{“TYPE”: “fire”, “ID”: “1”,...\n",
      "Tags: python|json|parsing\n"
     ]
    }
   ],
   "source": [
    "# Search for similar questions\n",
    "query_text = \"how to parse json in python\"\n",
    "query_embedding = model.encode(query_text.lower()).tolist()\n",
    "\n",
    "results = collection.query(\n",
    "    query_embeddings=[query_embedding],\n",
    "    n_results=3\n",
    ")\n",
    "\n",
    "print(\"\\nTop 3 similar questions:\")\n",
    "for i, (doc, meta) in enumerate(zip(results['documents'][0], results['metadatas'][0])):\n",
    "    print(f\"\\nResult {i+1}:\")\n",
    "    print(f\"Score: {1 - results['distances'][0][i]:.2f}\")\n",
    "    print(f\"Content: {doc[:200]}...\")\n",
    "    print(f\"Tags: {meta['tags']}\")"
   ]
  }
 ],
 "metadata": {
  "kernelspec": {
   "display_name": "venv",
   "language": "python",
   "name": "python3"
  },
  "language_info": {
   "codemirror_mode": {
    "name": "ipython",
    "version": 3
   },
   "file_extension": ".py",
   "mimetype": "text/x-python",
   "name": "python",
   "nbconvert_exporter": "python",
   "pygments_lexer": "ipython3",
   "version": "3.9.6"
  }
 },
 "nbformat": 4,
 "nbformat_minor": 5
}
